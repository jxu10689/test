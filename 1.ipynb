{
 "cells": [
  {
   "cell_type": "code",
   "execution_count": 1,
   "id": "b212209b",
   "metadata": {},
   "outputs": [
    {
     "name": "stdout",
     "output_type": "stream",
     "text": [
      "good\n"
     ]
    }
   ],
   "source": [
    "print('good')"
   ]
  },
  {
   "cell_type": "code",
   "execution_count": 2,
   "id": "46863a78",
   "metadata": {},
   "outputs": [
    {
     "name": "stdout",
     "output_type": "stream",
     "text": [
      "dencfhuvkrvhkrvhuifgheufhsedfkcndscvsdbvjdsjkvbdsv\n",
      "dencfhuvkrvhkrvhuifgheufhsedfkcndscvsdbvjdsjkvbdsv\n",
      "dencfhuvkrvhkrvhuifgheufhsedfkcndscvsdbvjdsjkvbdsv\n",
      "dencfhuvkrvhkrvhuifgheufhsedfkcndscvsdbvjdsjkvbdsv\n",
      "dencfhuvkrvhkrvhuifgheufhsedfkcndscvsdbvjdsjkvbdsv\n",
      "dencfhuvkrvhkrvhuifgheufhsedfkcndscvsdbvjdsjkvbdsv\n"
     ]
    }
   ],
   "source": [
    "print('dencfhuvkrvhkrvhuifgheufhsedfkcndscvsdbvjdsjkvbdsv')\n",
    "print('dencfhuvkrvhkrvhuifgheufhsedfkcndscvsdbvjdsjkvbdsv')\n",
    "print('dencfhuvkrvhkrvhuifgheufhsedfkcndscvsdbvjdsjkvbdsv')\n",
    "print('dencfhuvkrvhkrvhuifgheufhsedfkcndscvsdbvjdsjkvbdsv')\n",
    "print('dencfhuvkrvhkrvhuifgheufhsedfkcndscvsdbvjdsjkvbdsv')\n",
    "print('dencfhuvkrvhkrvhuifgheufhsedfkcndscvsdbvjdsjkvbdsv')"
   ]
  },
  {
   "cell_type": "code",
   "execution_count": 3,
   "id": "f21b2142",
   "metadata": {},
   "outputs": [
    {
     "name": "stdout",
     "output_type": "stream",
     "text": [
      "dencfhuvkrvhkrvhuifgheufhsedfkcndscvsdbvjdsjkvbdsv\n",
      "dencfhuvkrvhkrvhuifgheufhsedfkcndscvsdbvjdsjkvbdsv\n",
      "dencfhuvkrvhkrvhuifgheufhsedfkcndscvsdbvjdsjkvbdsv\n"
     ]
    }
   ],
   "source": [
    "print('dencfhuvkrvhkrvhuifgheufhsedfkcndscvsdbvjdsjkvbdsv')\n",
    "print('dencfhuvkrvhkrvhuifgheufhsedfkcndscvsdbvjdsjkvbdsv')\n",
    "print('dencfhuvkrvhkrvhuifgheufhsedfkcndscvsdbvjdsjkvbdsv')"
   ]
  },
  {
   "cell_type": "code",
   "execution_count": 4,
   "id": "8fb98388",
   "metadata": {},
   "outputs": [
    {
     "name": "stdout",
     "output_type": "stream",
     "text": [
      "dencfhuvkrvhkrvhuifgheufhsedfkcndscvsdbvjdsjkvbdsv\n",
      "dencfhuvkrvhkrvhuifgheufhsedfkcndscvsdbvjdsjkvbdsv\n",
      "dencfhuvkrvhkrvhuifgheufhsedfkcndscvsdbvjdsjkvbdsv\n",
      "dencfhuvkrvhkrvhuifgheufhsedfkcndscvsdbvjdsjkvbdsv\n",
      "dencfhuvkrvhkrvhuifgheufhsedfkcndscvsdbvjdsjkvbdsv\n",
      "dencfhuvkrvhkrvhuifgheufhsedfkcndscvsdbvjdsjkvbdsv\n"
     ]
    }
   ],
   "source": [
    "print('dencfhuvkrvhkrvhuifgheufhsedfkcndscvsdbvjdsjkvbdsv')\n",
    "print('dencfhuvkrvhkrvhuifgheufhsedfkcndscvsdbvjdsjkvbdsv')\n",
    "print('dencfhuvkrvhkrvhuifgheufhsedfkcndscvsdbvjdsjkvbdsv')\n",
    "print('dencfhuvkrvhkrvhuifgheufhsedfkcndscvsdbvjdsjkvbdsv')\n",
    "print('dencfhuvkrvhkrvhuifgheufhsedfkcndscvsdbvjdsjkvbdsv')\n",
    "print('dencfhuvkrvhkrvhuifgheufhsedfkcndscvsdbvjdsjkvbdsv')"
   ]
  },
  {
   "cell_type": "code",
   "execution_count": 5,
   "id": "59decc4a",
   "metadata": {},
   "outputs": [
    {
     "name": "stdout",
     "output_type": "stream",
     "text": [
      "dencfhuvkrvhkrvhuifgheufhsedfkcndscvsdbvjdsjkvbdsv\n",
      "dencfhuvkrvhkrvhuifgheufhsedfkcndscvsdbvjdsjkvbdsv\n",
      "dencfhuvkrvhkrvhuifgheufhsedfkcndscvsdbvjdsjkvbdsv\n",
      "dencfhuvkrvhkrvhuifgheufhsedfkcndscvsdbvjdsjkvbdsv\n",
      "dencfhuvkrvhkrvhuifgheufhsedfkcndscvsdbvjdsjkvbdsv\n",
      "dencfhuvkrvhkrvhuifgheufhsedfkcndscvsdbvjdsjkvbdsv\n"
     ]
    }
   ],
   "source": [
    "print('dencfhuvkrvhkrvhuifgheufhsedfkcndscvsdbvjdsjkvbdsv')\n",
    "print('dencfhuvkrvhkrvhuifgheufhsedfkcndscvsdbvjdsjkvbdsv')\n",
    "print('dencfhuvkrvhkrvhuifgheufhsedfkcndscvsdbvjdsjkvbdsv')\n",
    "print('dencfhuvkrvhkrvhuifgheufhsedfkcndscvsdbvjdsjkvbdsv')\n",
    "print('dencfhuvkrvhkrvhuifgheufhsedfkcndscvsdbvjdsjkvbdsv')\n",
    "print('dencfhuvkrvhkrvhuifgheufhsedfkcndscvsdbvjdsjkvbdsv')"
   ]
  }
 ],
 "metadata": {
  "kernelspec": {
   "display_name": "Python 3 (ipykernel)",
   "language": "python",
   "name": "python3"
  },
  "language_info": {
   "codemirror_mode": {
    "name": "ipython",
    "version": 3
   },
   "file_extension": ".py",
   "mimetype": "text/x-python",
   "name": "python",
   "nbconvert_exporter": "python",
   "pygments_lexer": "ipython3",
   "version": "3.9.7"
  }
 },
 "nbformat": 4,
 "nbformat_minor": 5
}
